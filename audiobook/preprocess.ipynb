{
 "cells": [
  {
   "cell_type": "code",
   "execution_count": 1,
   "id": "b1c03353",
   "metadata": {},
   "outputs": [],
   "source": [
    "import pandas as pd"
   ]
  },
  {
   "cell_type": "code",
   "execution_count": 2,
   "id": "14ea0bc9",
   "metadata": {},
   "outputs": [],
   "source": [
    "df = pd.read_csv('./data.csv', encoding='utf-8')"
   ]
  },
  {
   "cell_type": "code",
   "execution_count": 3,
   "id": "4d9a251f",
   "metadata": {},
   "outputs": [
    {
     "data": {
      "text/plain": [
       "1009"
      ]
     },
     "execution_count": 3,
     "metadata": {},
     "output_type": "execute_result"
    }
   ],
   "source": [
    "len(df)"
   ]
  },
  {
   "cell_type": "code",
   "execution_count": 7,
   "id": "320b5ada",
   "metadata": {},
   "outputs": [],
   "source": [
    "import re\n",
    "\n",
    "def normalize(text):\n",
    "    text = text.lower()\n",
    "    text = re.sub('[-\\:|\\!?,\\(\\)\\.\\\"]', ' ', text)\n",
    "    text = re.sub('\\s{2,}', ' ', text)\n",
    "    return text.strip()"
   ]
  },
  {
   "cell_type": "code",
   "execution_count": 5,
   "id": "20f23d9c",
   "metadata": {},
   "outputs": [
    {
     "data": {
      "text/html": [
       "<div>\n",
       "<style scoped>\n",
       "    .dataframe tbody tr th:only-of-type {\n",
       "        vertical-align: middle;\n",
       "    }\n",
       "\n",
       "    .dataframe tbody tr th {\n",
       "        vertical-align: top;\n",
       "    }\n",
       "\n",
       "    .dataframe thead th {\n",
       "        text-align: right;\n",
       "    }\n",
       "</style>\n",
       "<table border=\"1\" class=\"dataframe\">\n",
       "  <thead>\n",
       "    <tr style=\"text-align: right;\">\n",
       "      <th></th>\n",
       "      <th>author</th>\n",
       "      <th>title</th>\n",
       "    </tr>\n",
       "  </thead>\n",
       "  <tbody>\n",
       "    <tr>\n",
       "      <th>0</th>\n",
       "      <td>Tony Buzan</td>\n",
       "      <td>Tony Buzan - Cải Thiện Năng Lực Trí Não 1</td>\n",
       "    </tr>\n",
       "    <tr>\n",
       "      <th>1</th>\n",
       "      <td>Vũ Thành Vinh</td>\n",
       "      <td>Sự Sống Giá Bao Nhiêu?</td>\n",
       "    </tr>\n",
       "    <tr>\n",
       "      <th>2</th>\n",
       "      <td>Lưu Đình Long</td>\n",
       "      <td>Như Mây Thong Dong</td>\n",
       "    </tr>\n",
       "    <tr>\n",
       "      <th>3</th>\n",
       "      <td>Thích Nhật Từ</td>\n",
       "      <td>Tháo Dây Oan Trái</td>\n",
       "    </tr>\n",
       "    <tr>\n",
       "      <th>4</th>\n",
       "      <td>Mary Albright</td>\n",
       "      <td>Cạm Bẫy Trong Quản Lý</td>\n",
       "    </tr>\n",
       "  </tbody>\n",
       "</table>\n",
       "</div>"
      ],
      "text/plain": [
       "          author                                      title\n",
       "0     Tony Buzan  Tony Buzan - Cải Thiện Năng Lực Trí Não 1\n",
       "1  Vũ Thành Vinh                     Sự Sống Giá Bao Nhiêu?\n",
       "2  Lưu Đình Long                         Như Mây Thong Dong\n",
       "3  Thích Nhật Từ                          Tháo Dây Oan Trái\n",
       "4  Mary Albright                      Cạm Bẫy Trong Quản Lý"
      ]
     },
     "execution_count": 5,
     "metadata": {},
     "output_type": "execute_result"
    }
   ],
   "source": [
    "df.head()"
   ]
  },
  {
   "cell_type": "code",
   "execution_count": 6,
   "id": "2aff3603",
   "metadata": {},
   "outputs": [],
   "source": [
    "df['author'] = df['author'].apply(lambda x: normalize(x))\n",
    "df['title'] = df['title'].apply(lambda x: normalize(x))"
   ]
  },
  {
   "cell_type": "code",
   "execution_count": 18,
   "id": "21d10894",
   "metadata": {},
   "outputs": [],
   "source": [
    "from vietnam_number import n2w\n",
    "\n",
    "def convert_special_token_to_normal(text):\n",
    "    \n",
    "    text = text.lower()\n",
    "    \n",
    "    text = re.sub('[-\\:|\\!?,\\(\\)\\.\\\"]', ' ', text)\n",
    "    words = text.split()\n",
    "    for i in range(len(words)):\n",
    "        if words[i].isnumeric():\n",
    "            words[i] = n2w(words[i])\n",
    "    \n",
    "    text = ' '.join(words)\n",
    "    \n",
    "    text = re.sub('\\s{2,}', ' ', text)\n",
    "    \n",
    "    return text.strip()"
   ]
  },
  {
   "cell_type": "code",
   "execution_count": 9,
   "id": "eb60c23c",
   "metadata": {},
   "outputs": [
    {
     "data": {
      "text/plain": [
       "'sáng tạo vô biên phải điên mới chất hai mươi hai'"
      ]
     },
     "execution_count": 9,
     "metadata": {},
     "output_type": "execute_result"
    }
   ],
   "source": [
    "convert_special_token_to_normal('sáng tạo vô biên phải điên mới chất! 22')"
   ]
  },
  {
   "cell_type": "code",
   "execution_count": 16,
   "id": "d282e686",
   "metadata": {},
   "outputs": [
    {
     "name": "stdout",
     "output_type": "stream",
     "text": [
      "1332\n",
      "1332\n"
     ]
    }
   ],
   "source": [
    "with open('./playlists.txt', 'r', encoding='utf-8') as f:\n",
    "    playlists = [normalize(line.strip()) for line in f.readlines()]\n",
    "    \n",
    "print(len(playlists))\n",
    "\n",
    "# playlists = list(set(playlists))\n",
    "\n",
    "print(len(playlists))"
   ]
  },
  {
   "cell_type": "code",
   "execution_count": 12,
   "id": "0525076e",
   "metadata": {},
   "outputs": [],
   "source": [
    "with open('./playlists.txt', 'w', encoding='utf-8') as f:\n",
    "    for pl in playlists:\n",
    "        if pl:\n",
    "            f.writelines(pl + '\\n')"
   ]
  },
  {
   "cell_type": "code",
   "execution_count": 20,
   "id": "b8add6d0",
   "metadata": {},
   "outputs": [],
   "source": [
    "playlists_norm = []\n",
    "with open('./playlists_norm.txt', 'w', encoding='utf-8') as f:\n",
    "    for pl in playlists:\n",
    "        if pl:\n",
    "            playlists_norm.append(convert_special_token_to_normal(pl))\n",
    "            f.writelines(convert_special_token_to_normal(pl) + '\\n')"
   ]
  },
  {
   "cell_type": "code",
   "execution_count": 21,
   "id": "211f35ca",
   "metadata": {},
   "outputs": [
    {
     "name": "stdout",
     "output_type": "stream",
     "text": [
      "2664\n",
      "1549\n"
     ]
    }
   ],
   "source": [
    "all_playlist = playlists + playlists_norm\n",
    "print(len(all_playlist))\n",
    "\n",
    "all_playlist = list(set(all_playlist))\n",
    "print(len(all_playlist))"
   ]
  },
  {
   "cell_type": "code",
   "execution_count": 23,
   "id": "05de9e8b",
   "metadata": {},
   "outputs": [],
   "source": [
    "with open('./all_playlists.txt', 'w', encoding='utf-8') as f:\n",
    "    for pl in all_playlist:\n",
    "        f.writelines(pl + '\\n')"
   ]
  }
 ],
 "metadata": {
  "kernelspec": {
   "display_name": "phucpx",
   "language": "python",
   "name": "phucpx"
  },
  "language_info": {
   "codemirror_mode": {
    "name": "ipython",
    "version": 3
   },
   "file_extension": ".py",
   "mimetype": "text/x-python",
   "name": "python",
   "nbconvert_exporter": "python",
   "pygments_lexer": "ipython3",
   "version": "3.6.9"
  }
 },
 "nbformat": 4,
 "nbformat_minor": 5
}
